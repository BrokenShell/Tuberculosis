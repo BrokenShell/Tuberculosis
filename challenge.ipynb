{
 "cells": [
  {
   "metadata": {},
   "cell_type": "markdown",
   "source": [
    "# Chest X-ray Dataset for Tuberculosis Segmentation\n",
    "![x-ray image](assets/x-ray-001.png)\n",
    "\n",
    "This dataset consists of 704 chest X-ray images that have been curated from two sources: the Montgomery County Chest X-ray Database (USA) and the Shenzhen Chest X-ray Database (China). The images are used for training and evaluating machine learning models for tuberculosis (TB) detection.\n",
    "\n",
    "The dataset contains both tuberculosis-positive and normal chest X-rays, along with demographic details such as gender, age, and county of origin. The images are accompanied by lung segmentation masks and clinical metadata, which makes the dataset highly suitable for deep learning applications in medical imaging.\n",
    "\n",
    "## Dataset Overview\n",
    "\n",
    "### Dateset Download Options\n",
    "- **[Kaggle](https://www.kaggle.com/datasets/iamtapendu/chest-x-ray-lungs-segmentation/data)**\n",
    "- **[Google](https://drive.google.com/file/d/1-PozEOf_gS43o6-XJO_8I1LIa6biTOEA/view?usp=sharing)**\n",
    "- **Kaggle Hub. See code below. Requires Kaggle account & API key.**\n",
    "```\n",
    "import kagglehub\n",
    "\n",
    "path = kagglehub.dataset_download(\"iamtapendu/chest-x-ray-lungs-segmentation\")\n",
    "\n",
    "print(\"Path to dataset files:\", path)\n",
    "```\n",
    "\n",
    "### Data Sources\n",
    "- Montgomery County Chest X-ray Database\n",
    "- Shenzhen Chest X-ray Database\n",
    "\n",
    "#### Dataset Stats\n",
    "1. Total Images: 704 chest X-rays (from both Montgomery and Shenzhen).\n",
    "2. County Distribution:\n",
    "    - Shenzhen: 80% (563 images).\n",
    "    - Montgomery: 20% (141 images).\n",
    "3. PTB (Tuberculosis Cases):\n",
    "    - PTB=1 (Tuberculosis Positive): 345 images.\n",
    "    - PTB=0 (Normal): 359 images.\n",
    "\n",
    "#### Clinical Data Breakdown:\n",
    "The clinical metadata file includes the following columns:\n",
    "\n",
    "- id: Unique identifier for each image.\n",
    "- gender: Gender of the patient.\n",
    "- age: Age of the patient.\n",
    "- county: County of origin (Shenzhen or Montgomery).\n",
    "- ptb: Label indicating if the image shows tuberculosis (PTB=1) or is normal (PTB=0).\n",
    "- remarks: Additional clinical notes about the patient’s condition (e.g., \"secondary PTB\", \"normal\").\n"
   ],
   "id": "907a23c0ae86a672"
  },
  {
   "metadata": {},
   "cell_type": "code",
   "source": "",
   "id": "2dccec866104bd6f",
   "outputs": [],
   "execution_count": null
  }
 ],
 "metadata": {
  "kernelspec": {
   "display_name": "Python 3",
   "language": "python",
   "name": "python3"
  },
  "language_info": {
   "codemirror_mode": {
    "name": "ipython",
    "version": 2
   },
   "file_extension": ".py",
   "mimetype": "text/x-python",
   "name": "python",
   "nbconvert_exporter": "python",
   "pygments_lexer": "ipython2",
   "version": "2.7.6"
  }
 },
 "nbformat": 4,
 "nbformat_minor": 5
}
